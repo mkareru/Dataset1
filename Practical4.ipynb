{
  "nbformat": 4,
  "nbformat_minor": 0,
  "metadata": {
    "colab": {
      "name": "Untitled0.ipynb",
      "provenance": [],
      "collapsed_sections": [],
      "authorship_tag": "ABX9TyOaHHqa+2liDcJ4oc98oN5c",
      "include_colab_link": true
    },
    "kernelspec": {
      "name": "python3",
      "display_name": "Python 3"
    }
  },
  "cells": [
    {
      "cell_type": "markdown",
      "metadata": {
        "id": "view-in-github",
        "colab_type": "text"
      },
      "source": [
        "<a href=\"https://colab.research.google.com/github/mkareru/Dataset1/blob/main/Practical4.ipynb\" target=\"_parent\"><img src=\"https://colab.research.google.com/assets/colab-badge.svg\" alt=\"Open In Colab\"/></a>"
      ]
    },
    {
      "cell_type": "markdown",
      "metadata": {
        "id": "F0y2VHx3V-07"
      },
      "source": [
        "Practical 2- Descriptive Statistics\r\n",
        "\r\n",
        "1) Measures of Central Tendency\r\n",
        "  1. Mean\r\n",
        "  2. Median\r\n",
        "  3. Mode\r\n",
        "\r\n",
        "2) Measures of Variability\r\n",
        "  1. Standard Deviation\r\n",
        "  2. Variance\r\n",
        "  3. Min and Max Variables\r\n",
        "  4. Skewness and Kurtosis\r\n",
        "  5. Range\r\n",
        "  6. Percentiles/Quartiles\r\n",
        "  7. Box Plots"
      ]
    },
    {
      "cell_type": "markdown",
      "metadata": {
        "id": "G-XZ4ZXnWCW4"
      },
      "source": [
        "In Machine Learning (and in mathematics) there are often three values that interests us:\r\n",
        "\r\n",
        "**Mean** - The average value\r\n",
        "\r\n",
        "**Median** - The mid point value\r\n",
        "\r\n",
        "**Mode** - The most common value\r\n",
        "\r\n",
        "# **Mean**\r\n",
        "\r\n",
        "The mean value is the average value.To calculate the mean, find the sum of all values, and divide the sum by the number of values.\r\n",
        "\r\n",
        "Formula : ∑X / N, \r\n",
        "\r\n",
        "where X is the array elements and N is the total number of elements.\r\n",
        "\r\n",
        "The **NumPy** module has a method for this.\r\n",
        "\r\n",
        "Syntax:  numpy.mean(arr)\r\n",
        "\r\n",
        "Example 1 : Considering any Dataset, Find the average mean of any column using Numpy **mean()** method."
      ]
    },
    {
      "cell_type": "code",
      "metadata": {
        "id": "YbsdtE6EWh1Y"
      },
      "source": [
        "import pandas as pd\r\n",
        "import numpy as np\r\n",
        "drinks = pd.read_csv('https://raw.githubusercontent.com/mkareru/Dataset1/main/README.md/dataset')\r\n",
        "drinks"
      ],
      "execution_count": null,
      "outputs": []
    },
    {
      "cell_type": "code",
      "metadata": {
        "id": "hG5AjxwYYnrX"
      },
      "source": [
        "df = np.mean(drinks)\r\n",
        "print('Average alcohol serving accross each continent are as below')\r\n",
        "df"
      ],
      "execution_count": null,
      "outputs": []
    },
    {
      "cell_type": "markdown",
      "metadata": {
        "id": "Y4sdhV0iaaOX"
      },
      "source": [
        "*   The **Pandas** module also has a method for finding average value.\r\n",
        "\r\n",
        "Syntax: pandas.mean(arr)\r\n",
        "\r\n",
        "\r\n",
        "Example 2: Considering any huge dataset, use the **Pandas mean()** method to find the average along any axis."
      ]
    },
    {
      "cell_type": "code",
      "metadata": {
        "id": "X7eNq4TRatsb"
      },
      "source": [
        "import pandas as pd\r\n",
        "import numpy as np\r\n",
        "\r\n",
        "car = pd.read_csv('https://raw.githubusercontent.com/mkareru/Dataset1/main/README.md/cardata')\r\n",
        "# read in the CSV file from a URL\r\n",
        "car # Display the dataset"
      ],
      "execution_count": null,
      "outputs": []
    },
    {
      "cell_type": "code",
      "metadata": {
        "id": "etWSPrGncJuv"
      },
      "source": [
        "print(\"\\n----------- Average Selling of cars (In lakhs) -----------\\n\")\r\n",
        "print(car.mean())"
      ],
      "execution_count": null,
      "outputs": []
    },
    {
      "cell_type": "markdown",
      "metadata": {
        "id": "yzaMf_hpdW8D"
      },
      "source": [
        "# Median\r\n",
        "\r\n",
        "*   The median value is the value in the middle, after you have sorted all the values: \r\n",
        "*   It is important that the numbers are sorted before you find the median.\r\n",
        "\r\n",
        "Formula: [(N+1)/2]th Term,\r\n",
        "where N is the number of terms in an array.\r\n",
        "\r\n",
        "The **Numpy** module has a method for this.\r\n",
        "\r\n",
        "Syntax: numpy.median(arr)\r\n",
        "\r\n",
        "Example 1 : Considering any Dataset, Find the mid value (Median) of any column  using Numpy **median()** method."
      ]
    },
    {
      "cell_type": "code",
      "metadata": {
        "id": "zz1iY2yueZIN"
      },
      "source": [
        "import pandas as pd\r\n",
        "import numpy as np\r\n",
        "drinks = pd.read_csv('https://raw.githubusercontent.com/mkareru/Dataset1/main/README.md/dataset')\r\n",
        "drinks.head()"
      ],
      "execution_count": null,
      "outputs": []
    },
    {
      "cell_type": "code",
      "metadata": {
        "id": "G8MD6bepeoKL"
      },
      "source": [
        "bs = np.median(drinks['beer_servings']); ss = np.median(drinks['spirit_servings']);\r\n",
        "ws = np.median(drinks['wine_servings']); tl = np.median(drinks['total_litres_of_pure_alcohol']);\r\n",
        "print('mid-value of each drinks Serving accross all Continent:')\r\n",
        "print('Beer Serving =', bs)\r\n",
        "print('spirit servings =', ss)\r\n",
        "print('wine Serving =', ws)\r\n",
        "print('total liters alcohol accross all Continent =', tl)"
      ],
      "execution_count": null,
      "outputs": []
    },
    {
      "cell_type": "markdown",
      "metadata": {
        "id": "6IrZTDQqezDT"
      },
      "source": [
        "*   The **Pandas** module also has a method for finding mid value of an array.\r\n",
        "\r\n",
        "Syntax: pandas.mean(arr)\r\n",
        "\r\n",
        "\r\n",
        "Example 2: Considering any huge dataset, use the **Pandas median()** method to find the median along any axis."
      ]
    },
    {
      "cell_type": "code",
      "metadata": {
        "colab": {
          "base_uri": "https://localhost:8080/",
          "height": 166
        },
        "id": "SmEIYAh3e9Fo",
        "outputId": "f9a9473d-986e-4359-d1b0-2d257636a392"
      },
      "source": [
        "import pandas as pd\r\n",
        "import numpy as np\r\n",
        "\r\n",
        "car = pd.read_csv('https://raw.githubusercontent.com/mkareru/Dataset1/main/README.md/cardata')\r\n",
        "# read in the CSV file from a URL\r\n",
        "car # Display the dataset"
      ],
      "execution_count": 65,
      "outputs": [
        {
          "output_type": "execute_result",
          "data": {
            "text/html": [
              "<div>\n",
              "<style scoped>\n",
              "    .dataframe tbody tr th:only-of-type {\n",
              "        vertical-align: middle;\n",
              "    }\n",
              "\n",
              "    .dataframe tbody tr th {\n",
              "        vertical-align: top;\n",
              "    }\n",
              "\n",
              "    .dataframe thead th {\n",
              "        text-align: right;\n",
              "    }\n",
              "</style>\n",
              "<table border=\"1\" class=\"dataframe\">\n",
              "  <thead>\n",
              "    <tr style=\"text-align: right;\">\n",
              "      <th></th>\n",
              "      <th>Cars</th>\n",
              "      <th>Mahindra</th>\n",
              "      <th>Suzuki</th>\n",
              "      <th>Renault</th>\n",
              "      <th>Tata</th>\n",
              "      <th>Volkswagan</th>\n",
              "      <th>Honda</th>\n",
              "      <th>ferrari</th>\n",
              "      <th>BMW</th>\n",
              "      <th>Skoda</th>\n",
              "      <th>Audi</th>\n",
              "    </tr>\n",
              "  </thead>\n",
              "  <tbody>\n",
              "    <tr>\n",
              "      <th>0</th>\n",
              "      <td>2001 to 2005</td>\n",
              "      <td>18.45</td>\n",
              "      <td>11.47</td>\n",
              "      <td>13.56</td>\n",
              "      <td>16.44</td>\n",
              "      <td>16.35</td>\n",
              "      <td>11.56</td>\n",
              "      <td>10.89</td>\n",
              "      <td>15.46</td>\n",
              "      <td>16.78</td>\n",
              "      <td>14.89</td>\n",
              "    </tr>\n",
              "    <tr>\n",
              "      <th>1</th>\n",
              "      <td>2006 to 2010</td>\n",
              "      <td>19.45</td>\n",
              "      <td>11.40</td>\n",
              "      <td>16.49</td>\n",
              "      <td>16.10</td>\n",
              "      <td>17.45</td>\n",
              "      <td>12.45</td>\n",
              "      <td>11.14</td>\n",
              "      <td>16.48</td>\n",
              "      <td>16.36</td>\n",
              "      <td>16.10</td>\n",
              "    </tr>\n",
              "    <tr>\n",
              "      <th>2</th>\n",
              "      <td>2011 to 2015</td>\n",
              "      <td>19.40</td>\n",
              "      <td>12.10</td>\n",
              "      <td>17.40</td>\n",
              "      <td>18.10</td>\n",
              "      <td>16.90</td>\n",
              "      <td>12.45</td>\n",
              "      <td>11.40</td>\n",
              "      <td>16.90</td>\n",
              "      <td>16.45</td>\n",
              "      <td>16.45</td>\n",
              "    </tr>\n",
              "    <tr>\n",
              "      <th>3</th>\n",
              "      <td>2015 to 2020</td>\n",
              "      <td>19.45</td>\n",
              "      <td>11.40</td>\n",
              "      <td>17.40</td>\n",
              "      <td>18.10</td>\n",
              "      <td>17.45</td>\n",
              "      <td>13.00</td>\n",
              "      <td>11.14</td>\n",
              "      <td>16.48</td>\n",
              "      <td>16.78</td>\n",
              "      <td>16.45</td>\n",
              "    </tr>\n",
              "  </tbody>\n",
              "</table>\n",
              "</div>"
            ],
            "text/plain": [
              "           Cars  Mahindra  Suzuki  Renault  ...  ferrari    BMW  Skoda   Audi\n",
              "0  2001 to 2005     18.45   11.47    13.56  ...    10.89  15.46  16.78  14.89\n",
              "1  2006 to 2010     19.45   11.40    16.49  ...    11.14  16.48  16.36  16.10\n",
              "2  2011 to 2015     19.40   12.10    17.40  ...    11.40  16.90  16.45  16.45\n",
              "3  2015 to 2020     19.45   11.40    17.40  ...    11.14  16.48  16.78  16.45\n",
              "\n",
              "[4 rows x 11 columns]"
            ]
          },
          "metadata": {
            "tags": []
          },
          "execution_count": 65
        }
      ]
    },
    {
      "cell_type": "code",
      "metadata": {
        "colab": {
          "base_uri": "https://localhost:8080/"
        },
        "id": "77lxDBQJfBIr",
        "outputId": "807b3032-3251-4f9f-bf03-70f9c7be8b50"
      },
      "source": [
        "print(\"\\n----------- Mid value of each car brands: -----------\\n\")\r\n",
        "print(car.median())"
      ],
      "execution_count": 69,
      "outputs": [
        {
          "output_type": "stream",
          "text": [
            "\n",
            "----------- Mid value of each car brands: -----------\n",
            "\n",
            "Mahindra      19.425\n",
            "Suzuki        11.435\n",
            "Renault       16.945\n",
            "Tata          17.270\n",
            "Volkswagan    17.175\n",
            "Honda         12.450\n",
            "ferrari       11.140\n",
            "BMW           16.480\n",
            "Skoda         16.615\n",
            "Audi          16.275\n",
            "dtype: float64\n"
          ],
          "name": "stdout"
        }
      ]
    },
    {
      "cell_type": "markdown",
      "metadata": {
        "id": "v6Pys3WUfsFi"
      },
      "source": [
        "# Mode\r\n",
        "\r\n",
        "*   The Mode value is the value that appears the most number of times.\r\n",
        "*   The SciPy module has a method for this.\r\n",
        "\r\n",
        "Syntax:  - SciPy mode(arr)\r\n",
        "\r\n",
        "Example 2: Considering a huge dataset, use the **SciPy Mode()** method to find the continent that appears the most."
      ]
    },
    {
      "cell_type": "code",
      "metadata": {
        "colab": {
          "base_uri": "https://localhost:8080/",
          "height": 195
        },
        "id": "DUr1y1ldhsZ5",
        "outputId": "903d4360-d143-481d-df88-c052a4f3a62d"
      },
      "source": [
        "import pandas as pd\r\n",
        "import statistics\r\n",
        "drinks = pd.read_csv('https://raw.githubusercontent.com/mkareru/Dataset1/main/README.md/dataset')\r\n",
        "drinks.head()"
      ],
      "execution_count": 70,
      "outputs": [
        {
          "output_type": "execute_result",
          "data": {
            "text/html": [
              "<div>\n",
              "<style scoped>\n",
              "    .dataframe tbody tr th:only-of-type {\n",
              "        vertical-align: middle;\n",
              "    }\n",
              "\n",
              "    .dataframe tbody tr th {\n",
              "        vertical-align: top;\n",
              "    }\n",
              "\n",
              "    .dataframe thead th {\n",
              "        text-align: right;\n",
              "    }\n",
              "</style>\n",
              "<table border=\"1\" class=\"dataframe\">\n",
              "  <thead>\n",
              "    <tr style=\"text-align: right;\">\n",
              "      <th></th>\n",
              "      <th>country</th>\n",
              "      <th>beer_servings</th>\n",
              "      <th>spirit_servings</th>\n",
              "      <th>wine_servings</th>\n",
              "      <th>total_litres_of_pure_alcohol</th>\n",
              "      <th>continent</th>\n",
              "    </tr>\n",
              "  </thead>\n",
              "  <tbody>\n",
              "    <tr>\n",
              "      <th>0</th>\n",
              "      <td>Afghanistan</td>\n",
              "      <td>0</td>\n",
              "      <td>0</td>\n",
              "      <td>0</td>\n",
              "      <td>0.0</td>\n",
              "      <td>AS</td>\n",
              "    </tr>\n",
              "    <tr>\n",
              "      <th>1</th>\n",
              "      <td>Albania</td>\n",
              "      <td>89</td>\n",
              "      <td>132</td>\n",
              "      <td>54</td>\n",
              "      <td>4.9</td>\n",
              "      <td>EU</td>\n",
              "    </tr>\n",
              "    <tr>\n",
              "      <th>2</th>\n",
              "      <td>Algeria</td>\n",
              "      <td>25</td>\n",
              "      <td>0</td>\n",
              "      <td>14</td>\n",
              "      <td>0.7</td>\n",
              "      <td>AF</td>\n",
              "    </tr>\n",
              "    <tr>\n",
              "      <th>3</th>\n",
              "      <td>Andorra</td>\n",
              "      <td>245</td>\n",
              "      <td>138</td>\n",
              "      <td>312</td>\n",
              "      <td>12.4</td>\n",
              "      <td>EU</td>\n",
              "    </tr>\n",
              "    <tr>\n",
              "      <th>4</th>\n",
              "      <td>Angola</td>\n",
              "      <td>217</td>\n",
              "      <td>57</td>\n",
              "      <td>45</td>\n",
              "      <td>5.9</td>\n",
              "      <td>AF</td>\n",
              "    </tr>\n",
              "  </tbody>\n",
              "</table>\n",
              "</div>"
            ],
            "text/plain": [
              "       country  beer_servings  ...  total_litres_of_pure_alcohol  continent\n",
              "0  Afghanistan              0  ...                           0.0         AS\n",
              "1      Albania             89  ...                           4.9         EU\n",
              "2      Algeria             25  ...                           0.7         AF\n",
              "3      Andorra            245  ...                          12.4         EU\n",
              "4       Angola            217  ...                           5.9         AF\n",
              "\n",
              "[5 rows x 6 columns]"
            ]
          },
          "metadata": {
            "tags": []
          },
          "execution_count": 70
        }
      ]
    },
    {
      "cell_type": "code",
      "metadata": {
        "colab": {
          "base_uri": "https://localhost:8080/"
        },
        "id": "yn2O3OTPhwuM",
        "outputId": "dac512e9-c4b2-406e-abc3-7928d533c275"
      },
      "source": [
        "continent = statistics.mode(drinks['continent'])\r\n",
        "print('Continent with most number of occurance in the given dataset is', continent)"
      ],
      "execution_count": 71,
      "outputs": [
        {
          "output_type": "stream",
          "text": [
            "Continent with most number of occurance in the given dataset is AF\n"
          ],
          "name": "stdout"
        }
      ]
    },
    {
      "cell_type": "markdown",
      "metadata": {
        "id": "8woFTtElh4gx"
      },
      "source": [
        "*   The **Pandas** module also has a method for finding most repeating value in an array.\r\n",
        "\r\n",
        "Syntax: pandas.mode(arr)\r\n",
        "\r\n",
        "\r\n",
        "Example 2: Considering any huge dataset, use the **Pandas mode()** method to find the recurring number of sales for each brand of car."
      ]
    },
    {
      "cell_type": "code",
      "metadata": {
        "colab": {
          "base_uri": "https://localhost:8080/",
          "height": 166
        },
        "id": "FRFBiNlbiYpL",
        "outputId": "a73e4814-7569-41d2-fcfd-76a2471e3b4b"
      },
      "source": [
        "import pandas as pd\r\n",
        "import numpy as np\r\n",
        "\r\n",
        "car = pd.read_csv('https://raw.githubusercontent.com/mkareru/Dataset1/main/README.md/cardata')\r\n",
        "\r\n",
        "# read in the CSV file from a URL\r\n",
        "car # Display the dataset"
      ],
      "execution_count": 78,
      "outputs": [
        {
          "output_type": "execute_result",
          "data": {
            "text/html": [
              "<div>\n",
              "<style scoped>\n",
              "    .dataframe tbody tr th:only-of-type {\n",
              "        vertical-align: middle;\n",
              "    }\n",
              "\n",
              "    .dataframe tbody tr th {\n",
              "        vertical-align: top;\n",
              "    }\n",
              "\n",
              "    .dataframe thead th {\n",
              "        text-align: right;\n",
              "    }\n",
              "</style>\n",
              "<table border=\"1\" class=\"dataframe\">\n",
              "  <thead>\n",
              "    <tr style=\"text-align: right;\">\n",
              "      <th></th>\n",
              "      <th>Cars</th>\n",
              "      <th>Mahindra</th>\n",
              "      <th>Suzuki</th>\n",
              "      <th>Renault</th>\n",
              "      <th>Tata</th>\n",
              "      <th>Volkswagan</th>\n",
              "      <th>Honda</th>\n",
              "      <th>ferrari</th>\n",
              "      <th>BMW</th>\n",
              "      <th>Skoda</th>\n",
              "      <th>Audi</th>\n",
              "    </tr>\n",
              "  </thead>\n",
              "  <tbody>\n",
              "    <tr>\n",
              "      <th>0</th>\n",
              "      <td>2001 to 2005</td>\n",
              "      <td>18.45</td>\n",
              "      <td>11.47</td>\n",
              "      <td>13.56</td>\n",
              "      <td>16.44</td>\n",
              "      <td>16.35</td>\n",
              "      <td>11.56</td>\n",
              "      <td>10.89</td>\n",
              "      <td>15.46</td>\n",
              "      <td>16.78</td>\n",
              "      <td>14.89</td>\n",
              "    </tr>\n",
              "    <tr>\n",
              "      <th>1</th>\n",
              "      <td>2006 to 2010</td>\n",
              "      <td>19.45</td>\n",
              "      <td>11.40</td>\n",
              "      <td>16.49</td>\n",
              "      <td>16.10</td>\n",
              "      <td>17.45</td>\n",
              "      <td>12.45</td>\n",
              "      <td>11.14</td>\n",
              "      <td>16.48</td>\n",
              "      <td>16.36</td>\n",
              "      <td>16.10</td>\n",
              "    </tr>\n",
              "    <tr>\n",
              "      <th>2</th>\n",
              "      <td>2011 to 2015</td>\n",
              "      <td>19.40</td>\n",
              "      <td>12.10</td>\n",
              "      <td>17.40</td>\n",
              "      <td>18.10</td>\n",
              "      <td>16.90</td>\n",
              "      <td>12.45</td>\n",
              "      <td>11.40</td>\n",
              "      <td>16.90</td>\n",
              "      <td>16.45</td>\n",
              "      <td>16.45</td>\n",
              "    </tr>\n",
              "    <tr>\n",
              "      <th>3</th>\n",
              "      <td>2015 to 2020</td>\n",
              "      <td>19.45</td>\n",
              "      <td>11.40</td>\n",
              "      <td>17.40</td>\n",
              "      <td>18.10</td>\n",
              "      <td>17.45</td>\n",
              "      <td>13.00</td>\n",
              "      <td>11.14</td>\n",
              "      <td>16.48</td>\n",
              "      <td>16.78</td>\n",
              "      <td>16.45</td>\n",
              "    </tr>\n",
              "  </tbody>\n",
              "</table>\n",
              "</div>"
            ],
            "text/plain": [
              "           Cars  Mahindra  Suzuki  Renault  ...  ferrari    BMW  Skoda   Audi\n",
              "0  2001 to 2005     18.45   11.47    13.56  ...    10.89  15.46  16.78  14.89\n",
              "1  2006 to 2010     19.45   11.40    16.49  ...    11.14  16.48  16.36  16.10\n",
              "2  2011 to 2015     19.40   12.10    17.40  ...    11.40  16.90  16.45  16.45\n",
              "3  2015 to 2020     19.45   11.40    17.40  ...    11.14  16.48  16.78  16.45\n",
              "\n",
              "[4 rows x 11 columns]"
            ]
          },
          "metadata": {
            "tags": []
          },
          "execution_count": 78
        }
      ]
    },
    {
      "cell_type": "code",
      "metadata": {
        "colab": {
          "base_uri": "https://localhost:8080/"
        },
        "id": "vbe_IpD_idp9",
        "outputId": "ad363764-0348-4bf1-feb0-2bda26f7479b"
      },
      "source": [
        "print(\"\\n----------- recurring no.of sales of each car brands: -----------\\n\")\r\n",
        "print(car.mode())"
      ],
      "execution_count": 97,
      "outputs": [
        {
          "output_type": "stream",
          "text": [
            "\n",
            "----------- recurring no.of sales of each car brands: -----------\n",
            "\n",
            "           Cars  Mahindra  Suzuki  Renault  ...  ferrari    BMW  Skoda   Audi\n",
            "0  2001 to 2005     19.45    11.4     17.4  ...    11.14  16.48  16.78  16.45\n",
            "1  2006 to 2010       NaN     NaN      NaN  ...      NaN    NaN    NaN    NaN\n",
            "2  2011 to 2015       NaN     NaN      NaN  ...      NaN    NaN    NaN    NaN\n",
            "3  2015 to 2020       NaN     NaN      NaN  ...      NaN    NaN    NaN    NaN\n",
            "\n",
            "[4 rows x 11 columns]\n"
          ],
          "name": "stdout"
        }
      ]
    }
  ]
}